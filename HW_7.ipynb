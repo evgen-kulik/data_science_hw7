{
  "nbformat": 4,
  "nbformat_minor": 0,
  "metadata": {
    "colab": {
      "provenance": []
    },
    "kernelspec": {
      "name": "python3",
      "display_name": "Python 3"
    },
    "language_info": {
      "name": "python"
    }
  },
  "cells": [
    {
      "cell_type": "markdown",
      "source": [
        "# Домашнє завдання №7. Бібліотека surprise"
      ],
      "metadata": {
        "id": "BuC34y4fM3SB"
      }
    },
    {
      "cell_type": "markdown",
      "source": [
        "Роботу виконано в google.colab. В стаціонарному jupyter notebook бібліотека surprize не може встановитися через pip install."
      ],
      "metadata": {
        "id": "FAS1v6i4NAkC"
      }
    },
    {
      "cell_type": "markdown",
      "source": [
        "\n",
        "## 1. Основне завдання"
      ],
      "metadata": {
        "id": "vH78m6IAMZHj"
      }
    },
    {
      "cell_type": "markdown",
      "source": [
        "#### 1.1. Отримання датасету movielens (ml-latest-small)"
      ],
      "metadata": {
        "id": "c1gV5NXhPykI"
      }
    },
    {
      "cell_type": "markdown",
      "source": [],
      "metadata": {
        "id": "JLEQHCxGMbhU"
      }
    },
    {
      "cell_type": "code",
      "source": [
        "pip install surprise"
      ],
      "metadata": {
        "colab": {
          "base_uri": "https://localhost:8080/"
        },
        "id": "5BTVUqX-LI8F",
        "outputId": "1905d6a8-833c-426c-9480-1c94ca6a694a"
      },
      "execution_count": 111,
      "outputs": [
        {
          "output_type": "stream",
          "name": "stdout",
          "text": [
            "Requirement already satisfied: surprise in /usr/local/lib/python3.10/dist-packages (0.1)\n",
            "Requirement already satisfied: scikit-surprise in /usr/local/lib/python3.10/dist-packages (from surprise) (1.1.3)\n",
            "Requirement already satisfied: joblib>=1.0.0 in /usr/local/lib/python3.10/dist-packages (from scikit-surprise->surprise) (1.3.2)\n",
            "Requirement already satisfied: numpy>=1.17.3 in /usr/local/lib/python3.10/dist-packages (from scikit-surprise->surprise) (1.23.5)\n",
            "Requirement already satisfied: scipy>=1.3.2 in /usr/local/lib/python3.10/dist-packages (from scikit-surprise->surprise) (1.11.4)\n"
          ]
        }
      ]
    },
    {
      "cell_type": "code",
      "source": [
        "from surprise import Dataset\n",
        "\n",
        "data = Dataset.load_builtin(\"ml-100k\")  # завантажуємо датасет Movielens"
      ],
      "metadata": {
        "id": "SHh96vAIqend"
      },
      "execution_count": 112,
      "outputs": []
    },
    {
      "cell_type": "code",
      "source": [
        "# Отримуємо доступ до сирого (raw) представлення даних з raitings.csv (userId, movieId, rating, timestamp)\n",
        "raw_data = data.raw_ratings\n",
        "\n",
        "# Виводимо перші 5 елементів даних\n",
        "for i in range(5):\n",
        "    print(raw_data[i])"
      ],
      "metadata": {
        "colab": {
          "base_uri": "https://localhost:8080/"
        },
        "id": "03BbfBetcqMb",
        "outputId": "dccfa259-af3e-4647-a34d-3aa07f91799f"
      },
      "execution_count": 113,
      "outputs": [
        {
          "output_type": "stream",
          "name": "stdout",
          "text": [
            "('196', '242', 3.0, '881250949')\n",
            "('186', '302', 3.0, '891717742')\n",
            "('22', '377', 1.0, '878887116')\n",
            "('244', '51', 2.0, '880606923')\n",
            "('166', '346', 1.0, '886397596')\n"
          ]
        }
      ]
    },
    {
      "cell_type": "markdown",
      "source": [
        "#### 1.2. Побудова моделі матричної факторизації"
      ],
      "metadata": {
        "id": "BEC4XOgeZihq"
      }
    },
    {
      "cell_type": "code",
      "source": [
        "from surprise import SVD\n",
        "# Використовується для матричної факторизації в контексті рекомендаційних систем.\n",
        "# Реалізує алгоритм матричної факторизації на основі методу SVD (Singular Value Decomposition).\n",
        "# Він автоматично враховує відсутні значення (пропущені оцінки) в матриці оцінок користувачів-продуктів.\n",
        "from surprise.model_selection import train_test_split\n",
        "# Розділення датасету на навчальну і тестову частини"
      ],
      "metadata": {
        "id": "PQ5NDkKoSzvU"
      },
      "execution_count": 114,
      "outputs": []
    },
    {
      "cell_type": "code",
      "source": [
        "# Розділяємо датасет на навчальну і тестову частини (тут вона складатиме 30%)\n",
        "trainset, testset = train_test_split(data, test_size=0.3)\n",
        "\n",
        "# Створюємо модель SVD\n",
        "model = SVD()\n",
        "\n",
        "# Навчаємо модель\n",
        "model.fit(trainset)"
      ],
      "metadata": {
        "colab": {
          "base_uri": "https://localhost:8080/"
        },
        "id": "KftgokZbL1Ph",
        "outputId": "f2d4b3ef-41ff-48ca-a7db-1718186893ac"
      },
      "execution_count": 115,
      "outputs": [
        {
          "output_type": "execute_result",
          "data": {
            "text/plain": [
              "<surprise.prediction_algorithms.matrix_factorization.SVD at 0x79b9e939e260>"
            ]
          },
          "metadata": {},
          "execution_count": 115
        }
      ]
    },
    {
      "cell_type": "code",
      "source": [
        "from surprise import accuracy\n",
        "\n",
        "# Здійснюємо прогнози на тестовому наборі\n",
        "predictions = model.test(testset)\n",
        "\n",
        "# Оцінюємо якість моделі через обчислення значення Root Mean Squared Error (RMSE)\n",
        "rmse_svd = accuracy.rmse(predictions)"
      ],
      "metadata": {
        "colab": {
          "base_uri": "https://localhost:8080/"
        },
        "id": "B8GUHU_sSr-1",
        "outputId": "52cc0a5e-e6f8-44e9-c6ca-c5a9990e3a93"
      },
      "execution_count": 116,
      "outputs": [
        {
          "output_type": "stream",
          "name": "stdout",
          "text": [
            "RMSE: 0.9514\n"
          ]
        }
      ]
    },
    {
      "cell_type": "markdown",
      "source": [
        "#### 1.3. Підбір найкращих параметрів за допомогою крос-валідації для моделі SVD"
      ],
      "metadata": {
        "id": "gnIzXY3wl6SB"
      }
    },
    {
      "cell_type": "code",
      "source": [
        "from surprise.model_selection import KFold\n",
        "\n",
        "# об'єкт, який буде використовуватися для розділення даних на тренувальний та тестовий набори у кілька разів (n_splits)\n",
        "kf = KFold(n_splits=3)\n",
        "\n",
        "# створимо список значень RMSE отриманих під час крос-валідації для моделі SVD\n",
        "lst_rmse_svd_crv = []\n",
        "\n",
        "# цикл крос-валідації\n",
        "for trainset, testset in kf.split(data):\n",
        "\n",
        "    model.fit(trainset)  # навчання моделі на тренувальному наборі\n",
        "    predictions = model.test(testset)  # виконання прогнозів на тестовому наборі\n",
        "\n",
        "    lst_rmse_svd_crv.append(accuracy.rmse(predictions, verbose=True)) # додавання в список значень RMSE\n",
        "    # параметр verbose контролює, чи буде виведена додаткова інформація про обчислення RMSE"
      ],
      "metadata": {
        "colab": {
          "base_uri": "https://localhost:8080/"
        },
        "id": "uoX_Q15peYgh",
        "outputId": "b5e59fa5-971b-452d-c708-85702961a10e"
      },
      "execution_count": 117,
      "outputs": [
        {
          "output_type": "stream",
          "name": "stdout",
          "text": [
            "RMSE: 0.9486\n",
            "RMSE: 0.9428\n",
            "RMSE: 0.9423\n"
          ]
        }
      ]
    },
    {
      "cell_type": "markdown",
      "source": [
        "#### 1.4. Підбір найкращих параметрів за допомогою алгоритму SVD++ (розширений SVD)"
      ],
      "metadata": {
        "id": "Gx3JRZC60Zvx"
      }
    },
    {
      "cell_type": "code",
      "source": [
        "from surprise import SVDpp\n",
        "\n",
        "# Створюємо модель SVD++\n",
        "model_pp = SVDpp()\n",
        "\n",
        "# Навчаємо модель\n",
        "model_pp.fit(trainset)"
      ],
      "metadata": {
        "colab": {
          "base_uri": "https://localhost:8080/"
        },
        "id": "8b5O2nTm06rp",
        "outputId": "bacf2f67-2a8f-4482-f184-249c4131c43d"
      },
      "execution_count": 118,
      "outputs": [
        {
          "output_type": "execute_result",
          "data": {
            "text/plain": [
              "<surprise.prediction_algorithms.matrix_factorization.SVDpp at 0x79b9f1c21e40>"
            ]
          },
          "metadata": {},
          "execution_count": 118
        }
      ]
    },
    {
      "cell_type": "code",
      "source": [
        "# Здійснюємо прогнози на тестовому наборі\n",
        "predictions = model_pp.test(testset)\n",
        "\n",
        "# Оцінюємо якість моделі через обчислення значення Root Mean Squared Error (RMSE)\n",
        "rmse_svdpp = accuracy.rmse(predictions)"
      ],
      "metadata": {
        "colab": {
          "base_uri": "https://localhost:8080/"
        },
        "id": "FFzhXt_93A4w",
        "outputId": "f6a95e84-b6bd-4463-a161-a75021826ebb"
      },
      "execution_count": 119,
      "outputs": [
        {
          "output_type": "stream",
          "name": "stdout",
          "text": [
            "RMSE: 0.9222\n"
          ]
        }
      ]
    },
    {
      "cell_type": "code",
      "source": [
        "# створимо список значень RMSE отриманих під час крос-валідації для моделі SVD++\n",
        "lst_rmse_svdpp_crv = []\n",
        "\n",
        "# Проведемо навчання з використанням циклів крос-валідації\n",
        "for trainset, testset in kf.split(data):\n",
        "\n",
        "    model_pp.fit(trainset)\n",
        "    predictions = model_pp.test(testset)\n",
        "    lst_rmse_svdpp_crv.append(accuracy.rmse(predictions, verbose=True))"
      ],
      "metadata": {
        "colab": {
          "base_uri": "https://localhost:8080/"
        },
        "id": "5uEO2z-H2h39",
        "outputId": "6bb7557e-06c7-4fb6-c65a-97786c76f860"
      },
      "execution_count": 120,
      "outputs": [
        {
          "output_type": "stream",
          "name": "stdout",
          "text": [
            "RMSE: 0.9329\n",
            "RMSE: 0.9271\n",
            "RMSE: 0.9271\n"
          ]
        }
      ]
    },
    {
      "cell_type": "markdown",
      "source": [
        "#### 1.5. Підбір найкращих параметрів за допомогою алгоритму неприродженого розкладу матриці (NMF)"
      ],
      "metadata": {
        "id": "fPXsjXlN4WRY"
      }
    },
    {
      "cell_type": "code",
      "source": [
        "from surprise import NMF\n",
        "\n",
        "# Створюємо модель SVD++\n",
        "model_nmf = NMF()\n",
        "\n",
        "# Навчаємо модель\n",
        "model_nmf.fit(trainset)"
      ],
      "metadata": {
        "colab": {
          "base_uri": "https://localhost:8080/"
        },
        "outputId": "cb3ffe24-b799-47b6-f555-68337e2b4dab",
        "id": "HWS2wixi4WRq"
      },
      "execution_count": 121,
      "outputs": [
        {
          "output_type": "execute_result",
          "data": {
            "text/plain": [
              "<surprise.prediction_algorithms.matrix_factorization.NMF at 0x79b9f1c20880>"
            ]
          },
          "metadata": {},
          "execution_count": 121
        }
      ]
    },
    {
      "cell_type": "code",
      "source": [
        "# Здійснюємо прогнози на тестовому наборі\n",
        "predictions = model_nmf.test(testset)\n",
        "\n",
        "# Оцінюємо якість моделі через обчислення значення Root Mean Squared Error (RMSE)\n",
        "rmse_nmf = accuracy.rmse(predictions)"
      ],
      "metadata": {
        "colab": {
          "base_uri": "https://localhost:8080/"
        },
        "outputId": "0e46589d-f0c6-4f4b-a02e-1682f356cf43",
        "id": "ydv0HJHI4WRr"
      },
      "execution_count": 122,
      "outputs": [
        {
          "output_type": "stream",
          "name": "stdout",
          "text": [
            "RMSE: 0.9708\n"
          ]
        }
      ]
    },
    {
      "cell_type": "code",
      "source": [
        "# створимо список значень RMSE отриманих під час крос-валідації для моделі NMF\n",
        "lst_rmse_nmf_crv = []\n",
        "\n",
        "# Проведемо навчання з використанням циклів крос-валідації\n",
        "for trainset, testset in kf.split(data):\n",
        "\n",
        "    model_nmf.fit(trainset)\n",
        "    predictions = model_nmf.test(testset)\n",
        "    lst_rmse_nmf_crv.append(accuracy.rmse(predictions, verbose=True))"
      ],
      "metadata": {
        "colab": {
          "base_uri": "https://localhost:8080/"
        },
        "outputId": "62675f90-51e8-4c7a-cd4b-e04efe6b1e5c",
        "id": "p81CP4HA4WRr"
      },
      "execution_count": 123,
      "outputs": [
        {
          "output_type": "stream",
          "name": "stdout",
          "text": [
            "RMSE: 0.9717\n",
            "RMSE: 0.9787\n",
            "RMSE: 0.9826\n"
          ]
        }
      ]
    },
    {
      "cell_type": "markdown",
      "source": [
        "#### 1.6. Візуалізація ефективності навчання (значень RMSE) для різних алгоритмів"
      ],
      "metadata": {
        "id": "e18M9ATNAlnh"
      }
    },
    {
      "cell_type": "code",
      "source": [
        "import matplotlib.pyplot as plt\n",
        "\n",
        "# Створення графіка\n",
        "plt.figure(figsize=(8, 6))\n",
        "\n",
        "# Додавання точки rmse_svd\n",
        "plt.scatter(0, rmse_svd, marker='+', color='red', label='rmse_svd')\n",
        "# Додавання лінії з трьома точками з lst_rmse_svd_crv\n",
        "plt.plot(range(1, 4), lst_rmse_svd_crv, marker='o', linestyle='-', color='red', label='rmse_svd_crv')\n",
        "\n",
        "# Додавання точки rmse_svdpp\n",
        "plt.scatter(0, rmse_svdpp, marker='+', color='blue', label='rmse_svdpp')\n",
        "# Додавання лінії з трьома точками з lst_rmse_svdpp_crv\n",
        "plt.plot(range(1, 4), lst_rmse_svdpp_crv, marker='o', linestyle='-', color='blue', label='rmse_svdpp_crv')\n",
        "\n",
        "# Додавання точки rmse_nmf\n",
        "plt.scatter(0, rmse_nmf, marker='+', color='green', label='rmse_svdpp')\n",
        "# Додавання лінії з трьома точками з lst_rmse_nmf_crv\n",
        "plt.plot(range(1, 4), lst_rmse_nmf_crv, marker='o', linestyle='-', color='green', label='rmse_nmf_crv')\n",
        "\n",
        "# Додавання міток і заголовку\n",
        "plt.title('Графік RMSE для різних алгоритмів')\n",
        "plt.xlabel('Цикли крос-валідації (\"0\" - без крос-валідації)')\n",
        "plt.ylabel('RMSE')\n",
        "\n",
        "# Додавання легенди\n",
        "plt.legend(loc='lower left', bbox_to_anchor=(0, +0.11))\n",
        "\n",
        "# Додавання сітки\n",
        "plt.grid(True)\n",
        "\n",
        "# Відображення графіка\n",
        "plt.show()"
      ],
      "metadata": {
        "colab": {
          "base_uri": "https://localhost:8080/",
          "height": 564
        },
        "id": "36vwao_q4WRs",
        "outputId": "9e5d3ace-0ddf-42c4-b91e-e62bee300d36"
      },
      "execution_count": 126,
      "outputs": [
        {
          "output_type": "display_data",
          "data": {
            "text/plain": [
              "<Figure size 800x600 with 1 Axes>"
            ],
            "image/png": "[encoded data removed]"
          },
          "metadata": {}
        }
      ]
    },
    {
      "cell_type": "markdown",
      "source": [
        "#### 1.7. Висновки щодо ефективності навчання для різних алгоритмів"
      ],
      "metadata": {
        "id": "oQGr6w4KMDGU"
      }
    },
    {
      "cell_type": "markdown",
      "source": [
        "З графіка бачимо, що найменше значення RMSE отримано для алгоритму SVD++ без використання крос-валідації. В даному випадку цей підхід найкращій."
      ],
      "metadata": {
        "id": "o9MGP1t1MOAT"
      }
    },
    {
      "cell_type": "code",
      "source": [],
      "metadata": {
        "id": "BcgFNA34MMko"
      },
      "execution_count": null,
      "outputs": []
    }
  ]
}